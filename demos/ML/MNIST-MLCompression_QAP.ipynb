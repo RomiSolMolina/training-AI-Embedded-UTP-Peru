{
 "cells": [
  {
   "cell_type": "markdown",
   "metadata": {},
   "source": [
    "### Model compression \n",
    "#### MNIST"
   ]
  },
  {
   "cell_type": "markdown",
   "metadata": {},
   "source": [
    "#### Libraries"
   ]
  },
  {
   "cell_type": "code",
   "execution_count": 1,
   "metadata": {},
   "outputs": [
    {
     "name": "stderr",
     "output_type": "stream",
     "text": [
      "2025-10-14 00:43:36.573846: I tensorflow/core/util/port.cc:110] oneDNN custom operations are on. You may see slightly different numerical results due to floating-point round-off errors from different computation orders. To turn them off, set the environment variable `TF_ENABLE_ONEDNN_OPTS=0`.\n",
      "2025-10-14 00:43:36.628332: I tensorflow/core/platform/cpu_feature_guard.cc:182] This TensorFlow binary is optimized to use available CPU instructions in performance-critical operations.\n",
      "To enable the following instructions: AVX2 AVX512F AVX512_VNNI FMA, in other operations, rebuild TensorFlow with the appropriate compiler flags.\n",
      "2025-10-14 00:43:37.410327: W tensorflow/compiler/tf2tensorrt/utils/py_utils.cc:38] TF-TRT Warning: Could not find TensorRT\n"
     ]
    }
   ],
   "source": [
    "import os\n",
    "import numpy as np\n",
    "from numpy import array\n",
    "import matplotlib.pyplot as plt\n",
    "import seaborn as sn\n",
    "import pandas as pd\n",
    "\n",
    "## Tensorflow + Keras libraries\n",
    "import tensorflow as tf\n",
    "from tensorflow import keras\n",
    "from tensorflow.keras import Sequential\n",
    "from tensorflow.keras.models import *\n",
    "from tensorflow.keras.layers import *\n",
    "from tensorflow.keras.utils import to_categorical\n",
    "from tensorflow.keras.optimizers import SGD, Adam\n",
    "import tensorflow_model_optimization as tfmot\n",
    "from tensorflow_model_optimization.python.core.sparsity.keras import prune, pruning_callbacks, pruning_schedule\n",
    "from tensorflow_model_optimization.sparsity.keras import strip_pruning\n",
    "\n",
    "## Quantization\n",
    "from qkeras import *\n",
    "\n",
    "## Datasets\n",
    "from tensorflow.keras.datasets import cifar10\n",
    "from tensorflow.keras.datasets import cifar100\n",
    "from tensorflow.keras.datasets import mnist\n",
    "from tensorflow.keras.datasets import fashion_mnist\n",
    "\n",
    "\n",
    "from sklearn.metrics import confusion_matrix, ConfusionMatrixDisplay"
   ]
  },
  {
   "cell_type": "markdown",
   "metadata": {},
   "source": [
    "#### Enable GPU "
   ]
  },
  {
   "cell_type": "code",
   "execution_count": 2,
   "metadata": {},
   "outputs": [
    {
     "name": "stdout",
     "output_type": "stream",
     "text": [
      "GPUs:  1\n"
     ]
    },
    {
     "name": "stderr",
     "output_type": "stream",
     "text": [
      "2025-10-14 00:43:38.451440: I tensorflow/compiler/xla/stream_executor/cuda/cuda_gpu_executor.cc:996] successful NUMA node read from SysFS had negative value (-1), but there must be at least one NUMA node, so returning NUMA node zero. See more at https://github.com/torvalds/linux/blob/v6.0/Documentation/ABI/testing/sysfs-bus-pci#L344-L355\n",
      "2025-10-14 00:43:38.507858: I tensorflow/compiler/xla/stream_executor/cuda/cuda_gpu_executor.cc:996] successful NUMA node read from SysFS had negative value (-1), but there must be at least one NUMA node, so returning NUMA node zero. See more at https://github.com/torvalds/linux/blob/v6.0/Documentation/ABI/testing/sysfs-bus-pci#L344-L355\n",
      "2025-10-14 00:43:38.508080: I tensorflow/compiler/xla/stream_executor/cuda/cuda_gpu_executor.cc:996] successful NUMA node read from SysFS had negative value (-1), but there must be at least one NUMA node, so returning NUMA node zero. See more at https://github.com/torvalds/linux/blob/v6.0/Documentation/ABI/testing/sysfs-bus-pci#L344-L355\n"
     ]
    }
   ],
   "source": [
    "# GPU\n",
    "os.environ['TF_XLA_FLAGS'] = '--tf_xla_enable_xla_devices'\n",
    "\n",
    "import tensorflow as tf\n",
    "print(\"GPUs: \", len(tf.config.experimental.list_physical_devices('GPU')))\n",
    "\n",
    "import tensorflow as tf\n",
    "gpus = tf.config.experimental.list_physical_devices('GPU')\n",
    "if gpus:\n",
    "    try:\n",
    "        for gpu in gpus:\n",
    "            tf.config.experimental.set_memory_growth(gpu, True)\n",
    "\n",
    "    except RuntimeError as e:\n",
    "        print(e)"
   ]
  },
  {
   "cell_type": "markdown",
   "metadata": {},
   "source": [
    "#### Load dataset"
   ]
  },
  {
   "cell_type": "code",
   "execution_count": 3,
   "metadata": {},
   "outputs": [],
   "source": [
    "# Cargar dataset MNIST\n",
    "(x_train, y_train), (x_test, y_test) = keras.datasets.mnist.load_data()\n",
    "x_train, x_test = x_train / 255.0, x_test / 255.0            # Normalización"
   ]
  },
  {
   "cell_type": "markdown",
   "metadata": {},
   "source": [
    "##### Label selection for the binary classification\n",
    "\n",
    "Filter images that only contain numbers 1 and 9\n"
   ]
  },
  {
   "cell_type": "code",
   "execution_count": 4,
   "metadata": {},
   "outputs": [],
   "source": [
    "train_filter = np.where((y_train == 1) | (y_train == 9))\n",
    "test_filter = np.where((y_test == 1) | (y_test == 9))\n",
    "\n",
    "x_train = x_train[train_filter]\n",
    "y_train = y_train[train_filter]\n",
    "x_test = x_test[test_filter]\n",
    "y_test = y_test[test_filter]"
   ]
  },
  {
   "cell_type": "code",
   "execution_count": 5,
   "metadata": {},
   "outputs": [],
   "source": [
    "# Labels to binary format\n",
    "y_train_binary = np.where(y_train == 1, 0, 1)  # 1 -> 0, 9 -> 1\n",
    "y_test_binary = np.where(y_test == 1, 0, 1)  # 1 -> 0, 9 -> 1"
   ]
  },
  {
   "cell_type": "code",
   "execution_count": 6,
   "metadata": {},
   "outputs": [],
   "source": [
    "# One-hot Encoding\n",
    "y_train_binary = to_categorical(y_train_binary, num_classes=2, dtype=int)\n",
    "y_test_binary = to_categorical(y_test_binary, num_classes=2, dtype=int)"
   ]
  },
  {
   "cell_type": "code",
   "execution_count": 7,
   "metadata": {},
   "outputs": [
    {
     "data": {
      "text/plain": [
       "array([[1, 0],\n",
       "       [1, 0],\n",
       "       [0, 1],\n",
       "       ...,\n",
       "       [1, 0],\n",
       "       [0, 1],\n",
       "       [1, 0]])"
      ]
     },
     "execution_count": 7,
     "metadata": {},
     "output_type": "execute_result"
    }
   ],
   "source": [
    "y_test_binary"
   ]
  },
  {
   "cell_type": "markdown",
   "metadata": {},
   "source": [
    "### Model definition\n",
    "\n",
    "The architecture is defined in a quantized manner"
   ]
  },
  {
   "cell_type": "code",
   "execution_count": 8,
   "metadata": {},
   "outputs": [],
   "source": [
    "\n",
    "def build_model():\n",
    "    # Fixed point precision\n",
    "    kernelQ = \"quantized_bits(8,3,alpha=1)\"\n",
    "    biasQ = \"quantized_bits(8, 3,alpha=1)\"\n",
    "    activationQ = 'quantized_bits(16,6)'\n",
    "\n",
    "    modelQ = Sequential(\n",
    "                [   \n",
    "                    \n",
    "                    QDense(5, name='fc1_input',\n",
    "                            input_shape=(28 * 28,),\n",
    "                            kernel_quantizer= kernelQ, bias_quantizer= biasQ,\n",
    "                            kernel_initializer='lecun_uniform'),\n",
    "                    QActivation(activation= activationQ ,  name='relu_input'),\n",
    "\n",
    "                    QDense(7, name='fc1',\n",
    "                            kernel_quantizer= kernelQ, bias_quantizer= biasQ,\n",
    "                            kernel_initializer='lecun_uniform'),\n",
    "                    QActivation(activation= activationQ ,  name='relu1'),\n",
    "\n",
    "                    QDense(10, name='fc2',\n",
    "                            kernel_quantizer= kernelQ, bias_quantizer= biasQ,\n",
    "                            kernel_initializer='lecun_uniform'),\n",
    "                    QActivation(activation= activationQ ,  name='relu2'),\n",
    "                    \n",
    "                    QDense(2, name='output',\n",
    "                            kernel_quantizer= kernelQ, bias_quantizer= biasQ,\n",
    "                            kernel_initializer='lecun_uniform'),\n",
    "                    Activation(activation='sigmoid', name='sigmoid')\n",
    "                \n",
    "                ],\n",
    "\n",
    "            )\n",
    "    return modelQ\n",
    "\n"
   ]
  },
  {
   "cell_type": "code",
   "execution_count": 9,
   "metadata": {},
   "outputs": [],
   "source": [
    "x_train = x_train.reshape(x_train.shape[0], 28 * 28)\n",
    "x_test = x_test.reshape(x_test.shape[0], 28 * 28)"
   ]
  },
  {
   "cell_type": "markdown",
   "metadata": {},
   "source": [
    "### Build model"
   ]
  },
  {
   "cell_type": "code",
   "execution_count": 10,
   "metadata": {},
   "outputs": [
    {
     "name": "stderr",
     "output_type": "stream",
     "text": [
      "2025-10-14 00:45:50.189762: I tensorflow/compiler/xla/service/service.cc:169] XLA service 0xf7941d0 initialized for platform Host (this does not guarantee that XLA will be used). Devices:\n",
      "2025-10-14 00:45:50.189809: I tensorflow/compiler/xla/service/service.cc:177]   StreamExecutor device (0): Host, Default Version\n",
      "2025-10-14 00:45:50.190144: I tensorflow/compiler/xla/stream_executor/cuda/cuda_gpu_executor.cc:996] successful NUMA node read from SysFS had negative value (-1), but there must be at least one NUMA node, so returning NUMA node zero. See more at https://github.com/torvalds/linux/blob/v6.0/Documentation/ABI/testing/sysfs-bus-pci#L344-L355\n",
      "2025-10-14 00:45:50.190470: I tensorflow/compiler/xla/stream_executor/cuda/cuda_gpu_executor.cc:996] successful NUMA node read from SysFS had negative value (-1), but there must be at least one NUMA node, so returning NUMA node zero. See more at https://github.com/torvalds/linux/blob/v6.0/Documentation/ABI/testing/sysfs-bus-pci#L344-L355\n",
      "2025-10-14 00:45:50.190581: I tensorflow/compiler/xla/stream_executor/cuda/cuda_gpu_executor.cc:996] successful NUMA node read from SysFS had negative value (-1), but there must be at least one NUMA node, so returning NUMA node zero. See more at https://github.com/torvalds/linux/blob/v6.0/Documentation/ABI/testing/sysfs-bus-pci#L344-L355\n",
      "2025-10-14 00:45:50.258832: I tensorflow/compiler/xla/stream_executor/cuda/cuda_gpu_executor.cc:996] successful NUMA node read from SysFS had negative value (-1), but there must be at least one NUMA node, so returning NUMA node zero. See more at https://github.com/torvalds/linux/blob/v6.0/Documentation/ABI/testing/sysfs-bus-pci#L344-L355\n",
      "2025-10-14 00:45:50.259085: I tensorflow/compiler/xla/stream_executor/cuda/cuda_gpu_executor.cc:996] successful NUMA node read from SysFS had negative value (-1), but there must be at least one NUMA node, so returning NUMA node zero. See more at https://github.com/torvalds/linux/blob/v6.0/Documentation/ABI/testing/sysfs-bus-pci#L344-L355\n",
      "2025-10-14 00:45:50.259218: I tensorflow/compiler/xla/stream_executor/cuda/cuda_gpu_executor.cc:996] successful NUMA node read from SysFS had negative value (-1), but there must be at least one NUMA node, so returning NUMA node zero. See more at https://github.com/torvalds/linux/blob/v6.0/Documentation/ABI/testing/sysfs-bus-pci#L344-L355\n",
      "2025-10-14 00:45:50.259343: I tensorflow/core/common_runtime/gpu/gpu_device.cc:1635] Created device /job:localhost/replica:0/task:0/device:GPU:0 with 1118 MB memory:  -> device: 0, name: NVIDIA GeForce GTX 1650 with Max-Q Design, pci bus id: 0000:01:00.0, compute capability: 7.5\n",
      "2025-10-14 00:45:50.261289: I tensorflow/compiler/xla/service/service.cc:169] XLA service 0xe4be940 initialized for platform CUDA (this does not guarantee that XLA will be used). Devices:\n",
      "2025-10-14 00:45:50.261303: I tensorflow/compiler/xla/service/service.cc:177]   StreamExecutor device (0): NVIDIA GeForce GTX 1650 with Max-Q Design, Compute Capability 7.5\n"
     ]
    }
   ],
   "source": [
    "modelQ = build_model()"
   ]
  },
  {
   "cell_type": "code",
   "execution_count": 11,
   "metadata": {},
   "outputs": [
    {
     "name": "stdout",
     "output_type": "stream",
     "text": [
      "Model: \"sequential\"\n",
      "_________________________________________________________________\n",
      " Layer (type)                Output Shape              Param #   \n",
      "=================================================================\n",
      " fc1_input (QDense)          (None, 5)                 3925      \n",
      "                                                                 \n",
      " relu_input (QActivation)    (None, 5)                 0         \n",
      "                                                                 \n",
      " fc1 (QDense)                (None, 7)                 42        \n",
      "                                                                 \n",
      " relu1 (QActivation)         (None, 7)                 0         \n",
      "                                                                 \n",
      " fc2 (QDense)                (None, 10)                80        \n",
      "                                                                 \n",
      " relu2 (QActivation)         (None, 10)                0         \n",
      "                                                                 \n",
      " output (QDense)             (None, 2)                 22        \n",
      "                                                                 \n",
      " sigmoid (Activation)        (None, 2)                 0         \n",
      "                                                                 \n",
      "=================================================================\n",
      "Total params: 4,069\n",
      "Trainable params: 4,069\n",
      "Non-trainable params: 0\n",
      "_________________________________________________________________\n"
     ]
    }
   ],
   "source": [
    "modelQ.summary()"
   ]
  },
  {
   "cell_type": "markdown",
   "metadata": {},
   "source": [
    "### Pruning strategy"
   ]
  },
  {
   "cell_type": "code",
   "execution_count": 12,
   "metadata": {},
   "outputs": [],
   "source": [
    "final_sparsity = 0.2\n",
    "\n",
    "pruning_params = {\n",
    "                'pruning_schedule': tfmot.sparsity.keras.PolynomialDecay(\n",
    "                initial_sparsity=0, final_sparsity=final_sparsity, begin_step=0, end_step=3000\n",
    "                )\n",
    "            }\n",
    "\n",
    "model_QP = tfmot.sparsity.keras.prune_low_magnitude(modelQ, **pruning_params)"
   ]
  },
  {
   "cell_type": "code",
   "execution_count": 13,
   "metadata": {},
   "outputs": [
    {
     "name": "stdout",
     "output_type": "stream",
     "text": [
      "Epoch 1/32\n"
     ]
    },
    {
     "name": "stderr",
     "output_type": "stream",
     "text": [
      "2025-10-14 00:47:10.220879: I tensorflow/tsl/platform/default/subprocess.cc:304] Start cannot spawn child process: No such file or directory\n",
      "2025-10-14 00:47:11.110304: I tensorflow/compiler/mlir/tensorflow/utils/dump_mlir_util.cc:269] disabling MLIR crash reproducer, set env var `MLIR_CRASH_REPRODUCER_DIRECTORY` to enable.\n",
      "2025-10-14 00:47:11.133546: I tensorflow/compiler/xla/stream_executor/cuda/cuda_dnn.cc:424] Loaded cuDNN version 8902\n",
      "2025-10-14 00:47:11.262037: I ./tensorflow/compiler/jit/device_compiler.h:180] Compiled cluster using XLA!  This line is logged at most once for the lifetime of the process.\n"
     ]
    },
    {
     "name": "stdout",
     "output_type": "stream",
     "text": [
      "100/100 [==============================] - 6s 9ms/step - loss: 0.6381 - accuracy: 0.8164 - val_loss: 0.6266 - val_accuracy: 0.8438\n",
      "Epoch 2/32\n",
      "100/100 [==============================] - 1s 5ms/step - loss: 0.6198 - accuracy: 0.8530 - val_loss: 0.6159 - val_accuracy: 0.9021\n",
      "Epoch 3/32\n",
      "100/100 [==============================] - 1s 5ms/step - loss: 0.6132 - accuracy: 0.8973 - val_loss: 0.5946 - val_accuracy: 0.9361\n",
      "Epoch 4/32\n",
      "100/100 [==============================] - 1s 5ms/step - loss: 0.5947 - accuracy: 0.9164 - val_loss: 0.5819 - val_accuracy: 0.9510\n",
      "Epoch 5/32\n",
      "100/100 [==============================] - 1s 5ms/step - loss: 0.5752 - accuracy: 0.9416 - val_loss: 0.5595 - val_accuracy: 0.9655\n",
      "Epoch 6/32\n",
      "100/100 [==============================] - 1s 5ms/step - loss: 0.5498 - accuracy: 0.9502 - val_loss: 0.5299 - val_accuracy: 0.9674\n",
      "Epoch 7/32\n",
      "100/100 [==============================] - 1s 6ms/step - loss: 0.5273 - accuracy: 0.9558 - val_loss: 0.5105 - val_accuracy: 0.9683\n",
      "Epoch 8/32\n",
      "100/100 [==============================] - 1s 6ms/step - loss: 0.5081 - accuracy: 0.9567 - val_loss: 0.4896 - val_accuracy: 0.9594\n",
      "Epoch 9/32\n",
      "100/100 [==============================] - 1s 6ms/step - loss: 0.4843 - accuracy: 0.9582 - val_loss: 0.4723 - val_accuracy: 0.9678\n",
      "Epoch 10/32\n",
      "100/100 [==============================] - 1s 5ms/step - loss: 0.4720 - accuracy: 0.9604 - val_loss: 0.4488 - val_accuracy: 0.9715\n",
      "Epoch 11/32\n",
      "100/100 [==============================] - 1s 6ms/step - loss: 0.4503 - accuracy: 0.9615 - val_loss: 0.4353 - val_accuracy: 0.9674\n",
      "Epoch 12/32\n",
      "100/100 [==============================] - 1s 5ms/step - loss: 0.4370 - accuracy: 0.9621 - val_loss: 0.4169 - val_accuracy: 0.9697\n",
      "Epoch 13/32\n",
      "100/100 [==============================] - 1s 6ms/step - loss: 0.4204 - accuracy: 0.9629 - val_loss: 0.4078 - val_accuracy: 0.9688\n",
      "Epoch 14/32\n",
      "100/100 [==============================] - 1s 6ms/step - loss: 0.4108 - accuracy: 0.9627 - val_loss: 0.3931 - val_accuracy: 0.9655\n",
      "Epoch 15/32\n",
      "100/100 [==============================] - 1s 6ms/step - loss: 0.3932 - accuracy: 0.9635 - val_loss: 0.3822 - val_accuracy: 0.9683\n",
      "Epoch 16/32\n",
      "100/100 [==============================] - 1s 6ms/step - loss: 0.3868 - accuracy: 0.9643 - val_loss: 0.3673 - val_accuracy: 0.9683\n",
      "Epoch 17/32\n",
      "100/100 [==============================] - 1s 6ms/step - loss: 0.3633 - accuracy: 0.9693 - val_loss: 0.3468 - val_accuracy: 0.9757\n",
      "Epoch 18/32\n",
      "100/100 [==============================] - 1s 5ms/step - loss: 0.3495 - accuracy: 0.9734 - val_loss: 0.3331 - val_accuracy: 0.9748\n",
      "Epoch 19/32\n",
      "100/100 [==============================] - 1s 6ms/step - loss: 0.3368 - accuracy: 0.9749 - val_loss: 0.3191 - val_accuracy: 0.9827\n",
      "Epoch 20/32\n",
      "100/100 [==============================] - 1s 5ms/step - loss: 0.3168 - accuracy: 0.9763 - val_loss: 0.2844 - val_accuracy: 0.9823\n",
      "Epoch 21/32\n",
      "100/100 [==============================] - 1s 6ms/step - loss: 0.2903 - accuracy: 0.9763 - val_loss: 0.2725 - val_accuracy: 0.9837\n",
      "Epoch 22/32\n",
      "100/100 [==============================] - 1s 5ms/step - loss: 0.2781 - accuracy: 0.9779 - val_loss: 0.2643 - val_accuracy: 0.9841\n",
      "Epoch 23/32\n",
      "100/100 [==============================] - 1s 5ms/step - loss: 0.2705 - accuracy: 0.9790 - val_loss: 0.2459 - val_accuracy: 0.9837\n",
      "Epoch 24/32\n",
      "100/100 [==============================] - 1s 6ms/step - loss: 0.2504 - accuracy: 0.9809 - val_loss: 0.2374 - val_accuracy: 0.9846\n",
      "Epoch 25/32\n",
      "100/100 [==============================] - 1s 5ms/step - loss: 0.2395 - accuracy: 0.9806 - val_loss: 0.2239 - val_accuracy: 0.9855\n",
      "Epoch 26/32\n",
      "100/100 [==============================] - 1s 6ms/step - loss: 0.2248 - accuracy: 0.9822 - val_loss: 0.2093 - val_accuracy: 0.9874\n",
      "Epoch 27/32\n",
      "100/100 [==============================] - 1s 6ms/step - loss: 0.2154 - accuracy: 0.9834 - val_loss: 0.1997 - val_accuracy: 0.9883\n",
      "Epoch 28/32\n",
      "100/100 [==============================] - 1s 6ms/step - loss: 0.2049 - accuracy: 0.9834 - val_loss: 0.1892 - val_accuracy: 0.9888\n",
      "Epoch 29/32\n",
      "100/100 [==============================] - 1s 6ms/step - loss: 0.1976 - accuracy: 0.9836 - val_loss: 0.1855 - val_accuracy: 0.9893\n",
      "Epoch 30/32\n",
      "100/100 [==============================] - 1s 6ms/step - loss: 0.1929 - accuracy: 0.9842 - val_loss: 0.1801 - val_accuracy: 0.9893\n",
      "Epoch 31/32\n",
      "100/100 [==============================] - 1s 6ms/step - loss: 0.1871 - accuracy: 0.9839 - val_loss: 0.1737 - val_accuracy: 0.9888\n",
      "Epoch 32/32\n",
      "100/100 [==============================] - 1s 6ms/step - loss: 0.1768 - accuracy: 0.9849 - val_loss: 0.1550 - val_accuracy: 0.9897\n"
     ]
    }
   ],
   "source": [
    "lr = 0.00001\n",
    "op = Adam(lr)\n",
    "loss = \"categorical_crossentropy\"\n",
    "metrics = [\"accuracy\"]\n",
    "epochs=32\n",
    "batch_size=128\n",
    "\n",
    "model_QP.compile(optimizer=op, loss=loss, metrics=metrics)\n",
    "\n",
    "h = model_QP.fit(x_train, y_train_binary, epochs=epochs, batch_size=batch_size, validation_data=(x_test, y_test_binary),callbacks = [tfmot.sparsity.keras.UpdatePruningStep()])"
   ]
  },
  {
   "cell_type": "code",
   "execution_count": 14,
   "metadata": {},
   "outputs": [
    {
     "data": {
      "image/png": "[encoded data removed]",
      "text/plain": [
       "<Figure size 1500x300 with 1 Axes>"
      ]
     },
     "metadata": {},
     "output_type": "display_data"
    }
   ],
   "source": [
    "# Plot accuracy over epochs\n",
    "plt.figure(figsize=(15,3))\n",
    "plt.plot(h.history['accuracy'], label='Train Accuracy')\n",
    "plt.plot(h.history['val_accuracy'], label='Validation Accuracy')\n",
    "plt.xlabel('Epochs')\n",
    "plt.ylabel('Accuracy')\n",
    "plt.legend()\n",
    "plt.title('Accuracy over epochs')\n",
    "plt.show()"
   ]
  },
  {
   "cell_type": "code",
   "execution_count": 15,
   "metadata": {},
   "outputs": [
    {
     "name": "stdout",
     "output_type": "stream",
     "text": [
      "67/67 [==============================] - 0s 2ms/step\n"
     ]
    },
    {
     "data": {
      "image/png": "[encoded data removed]",
      "text/plain": [
       "<Figure size 640x480 with 2 Axes>"
      ]
     },
     "metadata": {},
     "output_type": "display_data"
    }
   ],
   "source": [
    "plt.rcParams.update({'font.size': 14})\n",
    "\n",
    "y_pred_probs = model_QP.predict(x_test)\n",
    "y_pred = np.argmax(y_pred_probs, axis=1)\n",
    "\n",
    "# Since y_test is one-hot encoded, you need to convert it back to class indices\n",
    "y_true = np.argmax(y_test_binary, axis=1)  # Convert one-hot encoded labels to class indices\n",
    "\n",
    "\n",
    "cm = confusion_matrix(y_true, y_pred)\n",
    "disp = ConfusionMatrixDisplay(confusion_matrix=cm)\n",
    "disp.plot(cmap='Purples')\n",
    "plt.show()\n"
   ]
  },
  {
   "cell_type": "code",
   "execution_count": 16,
   "metadata": {},
   "outputs": [
    {
     "name": "stdout",
     "output_type": "stream",
     "text": [
      "WARNING:tensorflow:Compiled the loaded model, but the compiled metrics have yet to be built. `model.compile_metrics` will be empty until you train or evaluate the model.\n"
     ]
    }
   ],
   "source": [
    "model_KD = strip_pruning(model_QP)\n",
    "model_KD.save(\"../models/mnistPQKD.h5\")"
   ]
  },
  {
   "cell_type": "markdown",
   "metadata": {},
   "source": [
    "### Plot signal for inference @FPGA"
   ]
  },
  {
   "cell_type": "code",
   "execution_count": null,
   "metadata": {},
   "outputs": [],
   "source": [
    "signal = [\n",
    "\n",
    "\t\t0,0,0,0,0,0,0,0,0,0,0,0,0,0,0,0,0,0,0,0,0,0,0,0,0,0,0,0,0,0,0,0,0,0,0,0,0,0,0,0,0,0,0,0,0,0,0,0,0,0,0,0,0,0,0,0,0,0,0,0,0,0,0,0,0,0,0,0,0,0,0,0,0,0,0,0,0,0,0,0,0,0,0,0,0,0,0,0,0,0,0,0,0,0,0,0,0,0,0,0,0,0,0,0,0,0,0,0,0,0,0,0,0,0,0,0,0,0,0,0,0,0,0,0,0,0,7,170,119,0,0,0,0,0,0,0,0,0,0,0,0,0,0,0,0,0,0,0,0,0,0,0,0,0,125,253,101,0,0,0,0,0,0,0,0,0,0,0,0,0,0,0,0,0,0,0,0,0,0,0,0,0,207,253,93,0,0,0,0,0,0,0,0,0,0,0,0,0,0,0,0,0,0,0,0,0,0,0,0,0,207,253,93,0,0,0,0,0,0,0,0,0,0,0,0,0,0,0,0,0,0,0,0,0,0,0,0,0,208,254,93,0,0,0,0,0,0,0,0,0,0,0,0,0,0,0,0,0,0,0,0,0,0,0,0,0,207,253,93,0,0,0,0,0,0,0,0,0,0,0,0,0,0,0,0,0,0,0,0,0,0,0,0,0,207,253,93,0,0,0,0,0,0,0,0,0,0,0,0,0,0,0,0,0,0,0,0,0,0,0,0,17,224,253,93,0,0,0,0,0,0,0,0,0,0,0,0,0,0,0,0,0,0,0,0,0,0,0,0,47,254,254,93,0,0,0,0,0,0,0,0,0,0,0,0,0,0,0,0,0,0,0,0,0,0,0,0,64,253,253,9,0,0,0,0,0,0,0,0,0,0,0,0,0,0,0,0,0,0,0,0,0,0,0,0,147,253,177,0,0,0,0,0,0,0,0,0,0,0,0,0,0,0,0,0,0,0,0,0,0,0,0,0,230,253,94,0,0,0,0,0,0,0,0,0,0,0,0,0,0,0,0,0,0,0,0,0,0,0,0,45,245,254,69,0,0,0,0,0,0,0,0,0,0,0,0,0,0,0,0,0,0,0,0,0,0,0,0,170,253,232,6,0,0,0,0,0,0,0,0,0,0,0,0,0,0,0,0,0,0,0,0,0,0,0,0,254,253,145,0,0,0,0,0,0,0,0,0,0,0,0,0,0,0,0,0,0,0,0,0,0,0,0,34,254,253,46,0,0,0,0,0,0,0,0,0,0,0,0,0,0,0,0,0,0,0,0,0,0,0,0,119,255,241,34,0,0,0,0,0,0,0,0,0,0,0,0,0,0,0,0,0,0,0,0,0,0,0,0,184,254,215,9,0,0,0,0,0,0,0,0,0,0,0,0,0,0,0,0,0,0,0,0,0,0,0,0,142,254,253,46,0,0,0,0,0,0,0,0,0,0,0,0,0,0,0,0,0,0,0,0,0,0,0,0,25,254,168,29,0,0,0,0,0,0,0,0,0,0,0,0,0,0,0,0,0,0,0,0,0,0,0,0,0,0,0,0,0,0,0,0,0,0,0,0,0,0,0,0,0,0,0,0,0,0,0,0,0,0,0,0,0,0,0,0,0,0,0,0,0,0,0,0,0,0,0,0,0,0,0,0,0,0,0,0,0,0,0,0,0,0,0,0,0,0,0,0,0,0,0,0,0,0,0,0,0,0,0,0,0,0,0,0,0,0,0,0,0,0,0,0,0,0,0,0,0,0,0,0,0,0,0,0,0\n",
    "\n",
    "    ]\n",
    "\n",
    "imageArray = np.array(signal)\n",
    "image_2d = imageArray.reshape((28, 28))\n",
    "# Display as an image\n",
    "plt.imshow(image_2d, cmap='gray', interpolation='nearest')\n",
    "plt.colorbar()  # Optional: Show color scale\n",
    "plt.show()"
   ]
  },
  {
   "cell_type": "markdown",
   "metadata": {},
   "source": [
    "---\n",
    "#### UTP - Perú - 2025\n",
    "\n",
    "Romina Soledad Molina, Ph.D. - MLab/STI ICTP, Trieste, Italy"
   ]
  }
 ],
 "metadata": {
  "kernelspec": {
   "display_name": "neuralEnv",
   "language": "python",
   "name": "python3"
  },
  "language_info": {
   "codemirror_mode": {
    "name": "ipython",
    "version": 3
   },
   "file_extension": ".py",
   "mimetype": "text/x-python",
   "name": "python",
   "nbconvert_exporter": "python",
   "pygments_lexer": "ipython3",
   "version": "3.10.18"
  }
 },
 "nbformat": 4,
 "nbformat_minor": 2
}
